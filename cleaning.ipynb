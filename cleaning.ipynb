{
 "cells": [
  {
   "cell_type": "code",
   "execution_count": 54,
   "metadata": {},
   "outputs": [
    {
     "name": "stdout",
     "output_type": "stream",
     "text": [
      "<class 'pandas.core.frame.DataFrame'>\n",
      "RangeIndex: 1266 entries, 0 to 1265\n",
      "Data columns (total 15 columns):\n",
      " #   Column      Non-Null Count  Dtype  \n",
      "---  ------      --------------  -----  \n",
      " 0   지점명         1266 non-null   object \n",
      " 1   일시          1266 non-null   object \n",
      " 2   전체포집량       1263 non-null   float64\n",
      " 3   모기포집량       1263 non-null   float64\n",
      " 4   기타포집량       1263 non-null   float64\n",
      " 5   평균기온        1266 non-null   float64\n",
      " 6   최고기온        1265 non-null   float64\n",
      " 7   최고기온시각      1265 non-null   object \n",
      " 8   최저기온        1266 non-null   float64\n",
      " 9   최저기온시각      1266 non-null   object \n",
      " 10  강수량         1266 non-null   float64\n",
      " 11  1시간최다강수량    1266 non-null   float64\n",
      " 12  1시간최다강수량시각  381 non-null    object \n",
      " 13  평균습도        1266 non-null   float64\n",
      " 14  최저습도        1265 non-null   float64\n",
      "dtypes: float64(10), object(5)\n",
      "memory usage: 148.5+ KB\n"
     ]
    }
   ],
   "source": [
    "import pandas\n",
    "\n",
    "data = pandas.read_csv('./포집량데이터_cleaned.csv')\n",
    "\n",
    "# 컬럼 결측치 확인\n",
    "data.info()"
   ]
  },
  {
   "cell_type": "code",
   "execution_count": 55,
   "metadata": {},
   "outputs": [
    {
     "data": {
      "text/plain": [
       "지점명             0\n",
       "일시              0\n",
       "전체포집량           3\n",
       "모기포집량           3\n",
       "기타포집량           3\n",
       "평균기온            0\n",
       "최고기온            1\n",
       "최고기온시각          1\n",
       "최저기온            0\n",
       "최저기온시각          0\n",
       "강수량             0\n",
       "1시간최다강수량        0\n",
       "1시간최다강수량시각    885\n",
       "평균습도            0\n",
       "최저습도            1\n",
       "dtype: int64"
      ]
     },
     "execution_count": 55,
     "metadata": {},
     "output_type": "execute_result"
    }
   ],
   "source": [
    "data.isnull().sum()\n"
   ]
  },
  {
   "cell_type": "code",
   "execution_count": 59,
   "metadata": {},
   "outputs": [],
   "source": [
    "# 결측치 행 삭제\n",
    "data = data.dropna(subset=['전체포집량', '최고기온'])\n",
    "\n",
    "# 최다강수량의 경우 비어있다면 0mm 온 것\n",
    "data['1시간최다강수량'] = data['1시간최다강수량'].fillna(0)"
   ]
  },
  {
   "cell_type": "code",
   "execution_count": 60,
   "metadata": {},
   "outputs": [
    {
     "data": {
      "text/plain": [
       "지점명             0\n",
       "일시              0\n",
       "전체포집량           0\n",
       "모기포집량           0\n",
       "기타포집량           0\n",
       "평균기온            0\n",
       "최고기온            0\n",
       "최고기온시각          0\n",
       "최저기온            0\n",
       "최저기온시각          0\n",
       "강수량             0\n",
       "1시간최다강수량        0\n",
       "1시간최다강수량시각    881\n",
       "평균습도            0\n",
       "최저습도            0\n",
       "dtype: int64"
      ]
     },
     "execution_count": 60,
     "metadata": {},
     "output_type": "execute_result"
    }
   ],
   "source": [
    "data.isnull().sum()"
   ]
  },
  {
   "cell_type": "code",
   "execution_count": 61,
   "metadata": {},
   "outputs": [
    {
     "name": "stdout",
     "output_type": "stream",
     "text": [
      "<class 'pandas.core.frame.DataFrame'>\n",
      "Int64Index: 1262 entries, 0 to 1265\n",
      "Data columns (total 15 columns):\n",
      " #   Column      Non-Null Count  Dtype  \n",
      "---  ------      --------------  -----  \n",
      " 0   지점명         1262 non-null   object \n",
      " 1   일시          1262 non-null   object \n",
      " 2   전체포집량       1262 non-null   float64\n",
      " 3   모기포집량       1262 non-null   float64\n",
      " 4   기타포집량       1262 non-null   float64\n",
      " 5   평균기온        1262 non-null   float64\n",
      " 6   최고기온        1262 non-null   float64\n",
      " 7   최고기온시각      1262 non-null   object \n",
      " 8   최저기온        1262 non-null   float64\n",
      " 9   최저기온시각      1262 non-null   object \n",
      " 10  강수량         1262 non-null   float64\n",
      " 11  1시간최다강수량    1262 non-null   float64\n",
      " 12  1시간최다강수량시각  381 non-null    object \n",
      " 13  평균습도        1262 non-null   float64\n",
      " 14  최저습도        1262 non-null   float64\n",
      "dtypes: float64(10), object(5)\n",
      "memory usage: 157.8+ KB\n"
     ]
    }
   ],
   "source": [
    "data.info()"
   ]
  }
 ],
 "metadata": {
  "kernelspec": {
   "display_name": "Python 3.10.8 64-bit",
   "language": "python",
   "name": "python3"
  },
  "language_info": {
   "codemirror_mode": {
    "name": "ipython",
    "version": 3
   },
   "file_extension": ".py",
   "mimetype": "text/x-python",
   "name": "python",
   "nbconvert_exporter": "python",
   "pygments_lexer": "ipython3",
   "version": "3.10.8"
  },
  "orig_nbformat": 4,
  "vscode": {
   "interpreter": {
    "hash": "aee8b7b246df8f9039afb4144a1f6fd8d2ca17a180786b69acc140d282b71a49"
   }
  }
 },
 "nbformat": 4,
 "nbformat_minor": 2
}
